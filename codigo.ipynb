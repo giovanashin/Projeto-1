{
 "cells": [
  {
   "cell_type": "code",
   "execution_count": null,
   "metadata": {},
   "outputs": [],
   "source": [
    "import pyautogui\n",
    "import time\n",
    "\n",
    "pyautogui.PAUSE = 0.3\n",
    "\n",
    "# abrir o navegador (chrome)\n",
    "pyautogui.press(\"win\")\n",
    "pyautogui.write(\"chrome\")\n",
    "pyautogui.press(\"enter\")\n",
    "\n",
    "# entrar no link \n",
    "time.sleep(2)\n",
    "pyautogui.write(\"https://dlp.hashtagtreinamentos.com/python/intensivao/login\")\n",
    "pyautogui.press(\"enter\")\n",
    "\n",
    "time.sleep(2)\n",
    "pyautogui.click(x=797, y=388)\n",
    "pyautogui.write(\"pythonimpressionador@gmail.com\")\n",
    "pyautogui.press(\"tab\")\n",
    "pyautogui.write(\"sua senha\")\n",
    "pyautogui.press(\"tab\")\n",
    "pyautogui.press(\"enter\")\n",
    "\n",
    "\n",
    "import pandas as pd\n",
    "tabela = pd.read_csv(\"produtos.csv\")\n",
    "\n",
    "for linha in tabela.index:\n",
    "    # clicar no campo de código\n",
    "    pyautogui.click(x=773, y=283)\n",
    "    # pegar da tabela o valor do campo que a gente quer preencher\n",
    "    codigo = tabela.loc[linha, \"codigo\"]\n",
    "    # preencher o campo\n",
    "    pyautogui.write(str(codigo))\n",
    "    # passar para o proximo campo\n",
    "    pyautogui.press(\"tab\")\n",
    "    # preencher o campo\n",
    "    pyautogui.write(str(tabela.loc[linha, \"marca\"]))\n",
    "    pyautogui.press(\"tab\")\n",
    "    pyautogui.write(str(tabela.loc[linha, \"tipo\"]))\n",
    "    pyautogui.press(\"tab\")\n",
    "    pyautogui.write(str(tabela.loc[linha, \"categoria\"]))\n",
    "    pyautogui.press(\"tab\")\n",
    "    pyautogui.write(str(tabela.loc[linha, \"preco_unitario\"]))\n",
    "    pyautogui.press(\"tab\")\n",
    "    pyautogui.write(str(tabela.loc[linha, \"custo\"]))\n",
    "    pyautogui.press(\"tab\")\n",
    "    obs = tabela.loc[linha, \"obs\"]\n",
    "    if not pd.isna(obs):\n",
    "        pyautogui.write(str(tabela.loc[linha, \"obs\"]))\n",
    "    pyautogui.press(\"tab\")\n",
    "    pyautogui.press(\"enter\") # cadastra o produto (botao enviar)\n",
    "    # dar scroll de tudo pra cima\n",
    "    pyautogui.scroll(5000)\n",
    "    # Passo 5: Repetir o processo de cadastro até o fim\n"
   ]
  }
 ],
 "metadata": {
  "kernelspec": {
   "display_name": "Python 3",
   "language": "python",
   "name": "python3"
  },
  "language_info": {
   "codemirror_mode": {
    "name": "ipython",
    "version": 3
   },
   "file_extension": ".py",
   "mimetype": "text/x-python",
   "name": "python",
   "nbconvert_exporter": "python",
   "pygments_lexer": "ipython3",
   "version": "3.11.6"
  },
  "orig_nbformat": 4
 },
 "nbformat": 4,
 "nbformat_minor": 2
}
